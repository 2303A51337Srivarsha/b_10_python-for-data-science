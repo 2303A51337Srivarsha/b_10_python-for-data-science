{
  "nbformat": 4,
  "nbformat_minor": 0,
  "metadata": {
    "colab": {
      "provenance": [],
      "authorship_tag": "ABX9TyP4gZuPEGxVUOK8YIPPLBOI",
      "include_colab_link": true
    },
    "kernelspec": {
      "name": "python3",
      "display_name": "Python 3"
    },
    "language_info": {
      "name": "python"
    }
  },
  "cells": [
    {
      "cell_type": "markdown",
      "metadata": {
        "id": "view-in-github",
        "colab_type": "text"
      },
      "source": [
        "<a href=\"https://colab.research.google.com/github/2303A51337Srivarsha/b_10_python-for-data-science/blob/main/lab_1.ipynb\" target=\"_parent\"><img src=\"https://colab.research.google.com/assets/colab-badge.svg\" alt=\"Open In Colab\"/></a>"
      ]
    },
    {
      "cell_type": "markdown",
      "source": [
        "Basic recursive funtion"
      ],
      "metadata": {
        "id": "YTo9fgw66PIC"
      }
    },
    {
      "cell_type": "code",
      "source": [
        "def factorial(n, accumulator=1):\n",
        "    if not isinstance(n, int) or n < 0:\n",
        "        return \"Error: Input must be a non-negative integer.\"\n",
        "    if n == 0 or n == 1:\n",
        "        print(f\"Base case reached: factorial({n}) = {accumulator}\")\n",
        "        return accumulator\n",
        "    print(f\"Recursive call: factorial({n}) = {n} * factorial({n-1})\")\n",
        "    return factorial(n-1, n * accumulator)\n",
        "\n",
        "num = 5\n",
        "result = factorial(num)\n",
        "print(f\"The factorial of {num} is: {result}\")\n",
        "def factorial_iterative(n):\n",
        "    if not isinstance(n, int) or n < 0:\n",
        "        return \"Error: Input must be a non-negative integer.\"\n",
        "    result = 1\n",
        "    for i in range(1, n + 1):\n",
        "        result *= i\n",
        "    return result\n",
        "num = 5\n",
        "result_iterative = factorial_iterative(num)\n",
        "print(f\"The factorial of {num} (iterative) is: {result_iterative}\")\n",
        "\n"
      ],
      "metadata": {
        "id": "N-8-Igqu4lrw",
        "outputId": "3cc49b2d-fc51-45e8-c06b-15902aa3c853",
        "colab": {
          "base_uri": "https://localhost:8080/"
        }
      },
      "execution_count": 1,
      "outputs": [
        {
          "output_type": "stream",
          "name": "stdout",
          "text": [
            "Recursive call: factorial(5) = 5 * factorial(4)\n",
            "Recursive call: factorial(4) = 4 * factorial(3)\n",
            "Recursive call: factorial(3) = 3 * factorial(2)\n",
            "Recursive call: factorial(2) = 2 * factorial(1)\n",
            "Base case reached: factorial(1) = 120\n",
            "The factorial of 5 is: 120\n",
            "The factorial of 5 (iterative) is: 120\n"
          ]
        }
      ]
    },
    {
      "cell_type": "markdown",
      "source": [
        "calculate ncr using recursive factorial"
      ],
      "metadata": {
        "id": "hz5UgS_96jJ5"
      }
    },
    {
      "cell_type": "code",
      "source": [
        "def factorial(n, accumulator=1):\n",
        "    if not isinstance(n, int) or n < 0:\n",
        "        return \"Error: Input must be a non-negative integer.\"\n",
        "    if n == 0 or n == 1:\n",
        "        return accumulator\n",
        "    return factorial(n-1, n * accumulator)\n",
        "\n",
        "def calculate_nCr(n, r):\n",
        "\n",
        "    if not isinstance(n, int) or not isinstance(r, int) or n < r or r < 0:\n",
        "        return \"Error: Invalid input values. Ensure n ≥ r ≥ 0.\"\n",
        "\n",
        "    n_fact = factorial(n)\n",
        "    r_fact = factorial(r)\n",
        "    n_r_fact = factorial(n-r)\n",
        "\n",
        "    nCr = n_fact // (r_fact * n_r_fact)\n",
        "    print(f\"n! = {n_fact}\")\n",
        "    print(f\"r! = {r_fact}\")\n",
        "    print(f\"(n-r)! = {n_r_fact}\")\n",
        "\n",
        "    return nCr\n",
        "\n",
        "n = 5\n",
        "r = 2\n",
        "result = calculate_nCr(n, r)\n",
        "print(f\"The value of {n}C{r} is: {result}\")\n",
        "import math\n",
        "result_math_comb = math.comb(n, r)\n",
        "print(f\"Result using math.comb(): {result_math_comb}\")"
      ],
      "metadata": {
        "id": "K842VT5y6uYh",
        "outputId": "9323ebcd-8dc9-4155-da1e-1a5edfb8fc5a",
        "colab": {
          "base_uri": "https://localhost:8080/"
        }
      },
      "execution_count": 2,
      "outputs": [
        {
          "output_type": "stream",
          "name": "stdout",
          "text": [
            "n! = 120\n",
            "r! = 2\n",
            "(n-r)! = 6\n",
            "The value of 5C2 is: 10\n",
            "Result using math.comb(): 10\n"
          ]
        }
      ]
    }
  ]
}