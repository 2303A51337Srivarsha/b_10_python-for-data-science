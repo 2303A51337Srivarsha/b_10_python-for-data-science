{
  "nbformat": 4,
  "nbformat_minor": 0,
  "metadata": {
    "colab": {
      "provenance": [],
      "authorship_tag": "ABX9TyMQ+gbEW6f9ATNQEI1sDn7e",
      "include_colab_link": true
    },
    "kernelspec": {
      "name": "python3",
      "display_name": "Python 3"
    },
    "language_info": {
      "name": "python"
    }
  },
  "cells": [
    {
      "cell_type": "markdown",
      "metadata": {
        "id": "view-in-github",
        "colab_type": "text"
      },
      "source": [
        "<a href=\"https://colab.research.google.com/github/2303A51337Srivarsha/b_10_python-for-data-science/blob/main/LAB_3.ipynb\" target=\"_parent\"><img src=\"https://colab.research.google.com/assets/colab-badge.svg\" alt=\"Open In Colab\"/></a>"
      ]
    },
    {
      "cell_type": "code",
      "execution_count": 5,
      "metadata": {
        "colab": {
          "base_uri": "https://localhost:8080/"
        },
        "id": "cdb7Q17WGGwf",
        "outputId": "0ddb8fd7-d29c-4ae0-975e-32bee45018d2"
      },
      "outputs": [
        {
          "output_type": "stream",
          "name": "stdout",
          "text": [
            "[[20 30 40]\n",
            " [40 50 60]]\n",
            "[[15 10 25]\n",
            " [20 25 35]]\n"
          ]
        }
      ],
      "source": [
        "import numpy as np\n",
        "A=np.array([[20,30,40],[40,50,60]])\n",
        "B=np.array([[15,10,25],[20,25,35]])\n",
        "print(A)\n",
        "print(B)"
      ]
    },
    {
      "cell_type": "code",
      "source": [
        "addition=np.add(A,B)\n",
        "print(addition)\n",
        "subtraction=np.subtract(A,B)\n",
        "print(subtraction)"
      ],
      "metadata": {
        "colab": {
          "base_uri": "https://localhost:8080/"
        },
        "id": "J34tmf3iGbJf",
        "outputId": "3ff3cb50-5916-480f-a205-66089701c95a"
      },
      "execution_count": 6,
      "outputs": [
        {
          "output_type": "stream",
          "name": "stdout",
          "text": [
            "[[35 40 65]\n",
            " [60 75 95]]\n",
            "[[ 5 20 15]\n",
            " [20 25 25]]\n"
          ]
        }
      ]
    },
    {
      "cell_type": "code",
      "source": [
        "import numpy as np\n",
        "scores = np.random.randint(0, 101, (4, 4))\n",
        "print(\"Test Scores (4x4):\\n\", scores)\n",
        "row_mean = np.mean(scores, axis=1)\n",
        "print(\"\\nRow-wise Mean (per student):\\n\", row_mean)\n",
        "col_mean = np.mean(scores, axis=0)\n",
        "print(\"\\nColumn-wise Mean (per subject):\\n\", col_mean)\n",
        "std_dev = np.std(scores)\n",
        "variance = np.var(scores)\n",
        "print(\"\\nStandard Deviation of all scores:\", std_dev)\n",
        "print(\"Variance of all scores:\", variance)\n",
        "max_value = np.max(scores)\n",
        "min_value = np.min(scores)\n",
        "max_index = np.unravel_index(np.argmax(scores), scores.shape)\n",
        "min_index = np.unravel_index(np.argmin(scores), scores.shape)\n",
        "print(\"\\nMaximum Score:\", max_value)\n",
        "print(\"Minimum Score:\", min_value)"
      ],
      "metadata": {
        "id": "2IiDRI_sPPXn",
        "outputId": "d3173ce9-791e-496d-b756-adaa8a52ce80",
        "colab": {
          "base_uri": "https://localhost:8080/"
        }
      },
      "execution_count": 7,
      "outputs": [
        {
          "output_type": "stream",
          "name": "stdout",
          "text": [
            "Test Scores (4x4):\n",
            " [[83 87 54 90]\n",
            " [21 39 62  6]\n",
            " [27 59 12 64]\n",
            " [72 33 99 59]]\n",
            "\n",
            "Row-wise Mean (per student):\n",
            " [78.5  32.   40.5  65.75]\n",
            "\n",
            "Column-wise Mean (per subject):\n",
            " [50.75 54.5  56.75 54.75]\n",
            "\n",
            "Standard Deviation of all scores: 27.771880450376422\n",
            "Variance of all scores: 771.27734375\n",
            "\n",
            "Maximum Score: 99\n",
            "Minimum Score: 6\n"
          ]
        }
      ]
    },
    {
      "cell_type": "code",
      "source": [
        "import numpy as np\n",
        "image = np.random.randint(0, 256, (3, 3, 3))\n",
        "print(\"Original Image:\\n\", image)\n",
        "red   = image[:, :, 0]\n",
        "green = image[:, :, 1]\n",
        "blue  = image[:, :, 2]\n",
        "print(\"\\nRed Channel:\\n\", red)\n",
        "print(\"\\nGreen Channel:\\n\", green)\n",
        "print(\"\\nBlue Channel:\\n\", blue)\n",
        "print(\"\\nAverage Red:\", np.mean(red))\n",
        "print(\"Average Green:\", np.mean(green))\n",
        "print(\"Average Blue:\", np.mean(blue))\n",
        "bright = np.clip(np.add(image, 50), 0, 255)\n",
        "print(\"\\nBrightened Image:\\n\", bright)\n",
        "dark = np.clip(np.subtract(image, 50), 0, 255)\n",
        "print(\"\\nDarkened Image:\\n\", dark)"
      ],
      "metadata": {
        "id": "072rFaQnPS3g",
        "outputId": "d879658e-5cef-4919-db74-fb21a3aa2b87",
        "colab": {
          "base_uri": "https://localhost:8080/"
        }
      },
      "execution_count": 8,
      "outputs": [
        {
          "output_type": "stream",
          "name": "stdout",
          "text": [
            "Original Image:\n",
            " [[[250 234 180]\n",
            "  [ 76 152  47]\n",
            "  [ 56 127 201]]\n",
            "\n",
            " [[ 41 140 140]\n",
            "  [ 43 174 228]\n",
            "  [255 202  46]]\n",
            "\n",
            " [[ 30 212 182]\n",
            "  [206  19  43]\n",
            "  [125   9  58]]]\n",
            "\n",
            "Red Channel:\n",
            " [[250  76  56]\n",
            " [ 41  43 255]\n",
            " [ 30 206 125]]\n",
            "\n",
            "Green Channel:\n",
            " [[234 152 127]\n",
            " [140 174 202]\n",
            " [212  19   9]]\n",
            "\n",
            "Blue Channel:\n",
            " [[180  47 201]\n",
            " [140 228  46]\n",
            " [182  43  58]]\n",
            "\n",
            "Average Red: 120.22222222222223\n",
            "Average Green: 141.0\n",
            "Average Blue: 125.0\n",
            "\n",
            "Brightened Image:\n",
            " [[[255 255 230]\n",
            "  [126 202  97]\n",
            "  [106 177 251]]\n",
            "\n",
            " [[ 91 190 190]\n",
            "  [ 93 224 255]\n",
            "  [255 252  96]]\n",
            "\n",
            " [[ 80 255 232]\n",
            "  [255  69  93]\n",
            "  [175  59 108]]]\n",
            "\n",
            "Darkened Image:\n",
            " [[[200 184 130]\n",
            "  [ 26 102   0]\n",
            "  [  6  77 151]]\n",
            "\n",
            " [[  0  90  90]\n",
            "  [  0 124 178]\n",
            "  [205 152   0]]\n",
            "\n",
            " [[  0 162 132]\n",
            "  [156   0   0]\n",
            "  [ 75   0   8]]]\n"
          ]
        }
      ]
    }
  ]
}