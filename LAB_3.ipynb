{
  "nbformat": 4,
  "nbformat_minor": 0,
  "metadata": {
    "colab": {
      "provenance": [],
      "authorship_tag": "ABX9TyMQ+gbEW6f9ATNQEI1sDn7e",
      "include_colab_link": true
    },
    "kernelspec": {
      "name": "python3",
      "display_name": "Python 3"
    },
    "language_info": {
      "name": "python"
    }
  },
  "cells": [
    {
      "cell_type": "markdown",
      "metadata": {
        "id": "view-in-github",
        "colab_type": "text"
      },
      "source": [
        "<a href=\"https://colab.research.google.com/github/2303A51337Srivarsha/b_10_python-for-data-science/blob/main/LAB_3.ipynb\" target=\"_parent\"><img src=\"https://colab.research.google.com/assets/colab-badge.svg\" alt=\"Open In Colab\"/></a>"
      ]
    },
    {
      "cell_type": "code",
      "execution_count": 1,
      "metadata": {
        "colab": {
          "base_uri": "https://localhost:8080/"
        },
        "id": "cdb7Q17WGGwf",
        "outputId": "083ed355-996e-4a70-e339-d73f225631d2"
      },
      "outputs": [
        {
          "output_type": "stream",
          "name": "stdout",
          "text": [
            "[[20 30 40]\n",
            " [40 50 60]]\n",
            "[[15 10 25]\n",
            " [20 25 35]]\n"
          ]
        }
      ],
      "source": [
        "import numpy as np\n",
        "A=np.array([[20,30,40],[40,50,60]])\n",
        "B=np.array([[15,10,25],[20,25,35]])\n",
        "print(A)\n",
        "print(B)"
      ]
    },
    {
      "cell_type": "code",
      "source": [
        "addition=np.add(A,B)\n",
        "print(addition)\n",
        "subtraction=np.subtract(A,B)\n",
        "print(subtraction)"
      ],
      "metadata": {
        "colab": {
          "base_uri": "https://localhost:8080/"
        },
        "id": "J34tmf3iGbJf",
        "outputId": "9b2d83a1-83cf-444a-dedf-5e5697d77dc4"
      },
      "execution_count": 2,
      "outputs": [
        {
          "output_type": "stream",
          "name": "stdout",
          "text": [
            "[[35 40 65]\n",
            " [60 75 95]]\n",
            "[[ 5 20 15]\n",
            " [20 25 25]]\n"
          ]
        }
      ]
    },
    {
      "cell_type": "code",
      "source": [
        "import numpy as np\n",
        "scores = np.random.randint(0, 101, (4, 4))\n",
        "print(\"Test Scores (4x4):\\n\", scores)\n",
        "row_mean = np.mean(scores, axis=1)\n",
        "print(\"\\nRow-wise Mean (per student):\\n\", row_mean)\n",
        "col_mean = np.mean(scores, axis=0)\n",
        "print(\"\\nColumn-wise Mean (per subject):\\n\", col_mean)\n",
        "std_dev = np.std(scores)\n",
        "variance = np.var(scores)\n",
        "print(\"\\nStandard Deviation of all scores:\", std_dev)\n",
        "print(\"Variance of all scores:\", variance)\n",
        "max_value = np.max(scores)\n",
        "min_value = np.min(scores)\n",
        "max_index = np.unravel_index(np.argmax(scores), scores.shape)\n",
        "min_index = np.unravel_index(np.argmin(scores), scores.shape)\n",
        "print(\"\\nMaximum Score:\", max_value)\n",
        "print(\"Minimum Score:\", min_value)"
      ],
      "metadata": {
        "id": "yBXGR8QROnsy",
        "outputId": "3c44b3fc-9502-400e-887d-a9dcf300ecb2",
        "colab": {
          "base_uri": "https://localhost:8080/"
        }
      },
      "execution_count": 3,
      "outputs": [
        {
          "output_type": "stream",
          "name": "stdout",
          "text": [
            "Test Scores (4x4):\n",
            " [[ 98  13  19  72]\n",
            " [ 85  79  80  34]\n",
            " [ 45  16   3   9]\n",
            " [100  26  47  14]]\n",
            "\n",
            "Row-wise Mean (per student):\n",
            " [50.5  69.5  18.25 46.75]\n",
            "\n",
            "Column-wise Mean (per subject):\n",
            " [82.   33.5  37.25 32.25]\n",
            "\n",
            "Standard Deviation of all scores: 33.13513995745303\n",
            "Variance of all scores: 1097.9375\n",
            "\n",
            "Maximum Score: 100\n",
            "Minimum Score: 3\n"
          ]
        }
      ]
    },
    {
      "cell_type": "code",
      "source": [
        "import numpy as np\n",
        "image = np.random.randint(0, 256, (3, 3, 3))\n",
        "print(\"Original Image:\\n\", image)\n",
        "red   = image[:, :, 0]\n",
        "green = image[:, :, 1]\n",
        "blue  = image[:, :, 2]\n",
        "print(\"\\nRed Channel:\\n\", red)\n",
        "print(\"\\nGreen Channel:\\n\", green)\n",
        "print(\"\\nBlue Channel:\\n\", blue)\n",
        "print(\"\\nAverage Red:\", np.mean(red))\n",
        "print(\"Average Green:\", np.mean(green))\n",
        "print(\"Average Blue:\", np.mean(blue))\n",
        "bright = np.clip(np.add(image, 50), 0, 255)\n",
        "print(\"\\nBrightened Image:\\n\", bright)\n",
        "dark = np.clip(np.subtract(image, 50), 0, 255)\n",
        "print(\"\\nDarkened Image:\\n\", dark)"
      ],
      "metadata": {
        "id": "OMwQM0suOreJ",
        "outputId": "6e7099ee-cf40-442c-8a57-5f632482dc54",
        "colab": {
          "base_uri": "https://localhost:8080/"
        }
      },
      "execution_count": 4,
      "outputs": [
        {
          "output_type": "stream",
          "name": "stdout",
          "text": [
            "Original Image:\n",
            " [[[155  71  94]\n",
            "  [ 53 127 229]\n",
            "  [145  93 108]]\n",
            "\n",
            " [[184 128 212]\n",
            "  [171 195 241]\n",
            "  [168 231  73]]\n",
            "\n",
            " [[ 39 135 116]\n",
            "  [229 141  14]\n",
            "  [ 50 234 254]]]\n",
            "\n",
            "Red Channel:\n",
            " [[155  53 145]\n",
            " [184 171 168]\n",
            " [ 39 229  50]]\n",
            "\n",
            "Green Channel:\n",
            " [[ 71 127  93]\n",
            " [128 195 231]\n",
            " [135 141 234]]\n",
            "\n",
            "Blue Channel:\n",
            " [[ 94 229 108]\n",
            " [212 241  73]\n",
            " [116  14 254]]\n",
            "\n",
            "Average Red: 132.66666666666666\n",
            "Average Green: 150.55555555555554\n",
            "Average Blue: 149.0\n",
            "\n",
            "Brightened Image:\n",
            " [[[205 121 144]\n",
            "  [103 177 255]\n",
            "  [195 143 158]]\n",
            "\n",
            " [[234 178 255]\n",
            "  [221 245 255]\n",
            "  [218 255 123]]\n",
            "\n",
            " [[ 89 185 166]\n",
            "  [255 191  64]\n",
            "  [100 255 255]]]\n",
            "\n",
            "Darkened Image:\n",
            " [[[105  21  44]\n",
            "  [  3  77 179]\n",
            "  [ 95  43  58]]\n",
            "\n",
            " [[134  78 162]\n",
            "  [121 145 191]\n",
            "  [118 181  23]]\n",
            "\n",
            " [[  0  85  66]\n",
            "  [179  91   0]\n",
            "  [  0 184 204]]]\n"
          ]
        }
      ]
    }
  ]
}